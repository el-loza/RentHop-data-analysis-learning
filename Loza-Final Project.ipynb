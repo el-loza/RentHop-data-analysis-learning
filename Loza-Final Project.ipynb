{
 "cells": [
  {
   "cell_type": "markdown",
   "metadata": {},
   "source": [
    "$\\newcommand{\\xv}{\\mathbf{x}}\n",
    "\\newcommand{\\Xv}{\\mathbf{X}}\n",
    "\\newcommand{\\yv}{\\mathbf{y}}\n",
    "\\newcommand{\\zv}{\\mathbf{z}}\n",
    "\\newcommand{\\av}{\\mathbf{a}}\n",
    "\\newcommand{\\Wv}{\\mathbf{W}}\n",
    "\\newcommand{\\wv}{\\mathbf{w}}\n",
    "\\newcommand{\\tv}{\\mathbf{t}}\n",
    "\\newcommand{\\Tv}{\\mathbf{T}}\n",
    "\\newcommand{\\muv}{\\boldsymbol{\\mu}}\n",
    "\\newcommand{\\sigmav}{\\boldsymbol{\\sigma}}\n",
    "\\newcommand{\\phiv}{\\boldsymbol{\\phi}}\n",
    "\\newcommand{\\Phiv}{\\boldsymbol{\\Phi}}\n",
    "\\newcommand{\\Sigmav}{\\boldsymbol{\\Sigma}}\n",
    "\\newcommand{\\Lambdav}{\\boldsymbol{\\Lambda}}\n",
    "\\newcommand{\\half}{\\frac{1}{2}}\n",
    "\\newcommand{\\argmax}[1]{\\underset{#1}{\\operatorname{argmax}}}\n",
    "\\newcommand{\\argmin}[1]{\\underset{#1}{\\operatorname{argmin}}}$"
   ]
  },
  {
   "cell_type": "markdown",
   "metadata": {},
   "source": [
    "$\\newcommand{\\xv}{\\mathbf{x}}\n",
    "\\newcommand{\\Xv}{\\mathbf{X}}\n",
    "\\newcommand{\\yv}{\\mathbf{y}}\n",
    "\\newcommand{\\zv}{\\mathbf{z}}\n",
    "\\newcommand{\\av}{\\mathbf{a}}\n",
    "\\newcommand{\\Wv}{\\mathbf{W}}\n",
    "\\newcommand{\\wv}{\\mathbf{w}}\n",
    "\\newcommand{\\tv}{\\mathbf{t}}\n",
    "\\newcommand{\\Tv}{\\mathbf{T}}\n",
    "\\newcommand{\\muv}{\\boldsymbol{\\mu}}\n",
    "\\newcommand{\\sigmav}{\\boldsymbol{\\sigma}}\n",
    "\\newcommand{\\phiv}{\\boldsymbol{\\phi}}\n",
    "\\newcommand{\\Phiv}{\\boldsymbol{\\Phi}}\n",
    "\\newcommand{\\Sigmav}{\\boldsymbol{\\Sigma}}\n",
    "\\newcommand{\\Lambdav}{\\boldsymbol{\\Lambda}}\n",
    "\\newcommand{\\half}{\\frac{1}{2}}\n",
    "\\newcommand{\\argmax}[1]{\\underset{#1}{\\operatorname{argmax}}}\n",
    "\\newcommand{\\argmin}[1]{\\underset{#1}{\\operatorname{argmin}}}$"
   ]
  },
  {
   "cell_type": "markdown",
   "metadata": {},
   "source": [
    "# Term Project: Predicting Rental Posting Interest Levels"
   ]
  },
  {
   "cell_type": "markdown",
   "metadata": {},
   "source": [
    "Ethan Loza"
   ]
  },
  {
   "cell_type": "markdown",
   "metadata": {},
   "source": [
    "## Abstract"
   ]
  },
  {
   "cell_type": "markdown",
   "metadata": {},
   "source": [
    "In this project I studied how to predict the interest level of a rental posting based on 5 basic characteristics of a rental posting. LDA, nonlinear logistic and linear logistic models were used to predict the interest level of potential renters. The best model produced around 60% accuracy."
   ]
  },
  {
   "cell_type": "markdown",
   "metadata": {},
   "source": [
    "## Introduction"
   ]
  },
  {
   "cell_type": "markdown",
   "metadata": {},
   "source": [
    "In this project I am using a dataset provided by RentHop covering gathered data from rental listings in New York from April 2016 to June 2017. RentHop is an alternative to Craigslist that solely focuses on rentals. In addition to hosting rental postings, RentHop also manages renter and owner information, roommate matching, and rental matching. For this particular dataset, RentHop has aggregated an interest levels for each listing that is classified on a scale from 'High', 'Medium', and 'Low'. These interest classifications were predetermined by RentHop and calculated from the number of inquiries from their website. In addition to the interest levels, RentHop has also provide all of the meta-data associated with each listing. The goal of this project is to determine if there is a model that can predict the interest level in a rental's posting based on the provided attributes. This project will take advantage of the classification machine learning models learned in class, specifically: LDA and linear and nonlinear logistic classification models. I will first explore the data to look for any initial discernible trends, then will incrementally build a machine learning model on the trends that I begin to discover. As soon to be graduate, I will be moving out of Fort Collins for a new job and will have to start looking for a new place to rent. It will be interesting to see what trends affect renter's interest in a rental property."
   ]
  },
  {
   "cell_type": "markdown",
   "metadata": {},
   "source": [
    "## Methods"
   ]
  },
  {
   "cell_type": "code",
   "execution_count": 51,
   "metadata": {
    "collapsed": false
   },
   "outputs": [],
   "source": [
    "import numpy as np\n",
    "import pandas as pd \n",
    "import mlutils as ml\n",
    "import neuralnetworks as nn\n",
    "import qdalda as ql\n",
    "import matplotlib.pyplot as plt\n",
    "import math\n",
    "%matplotlib inline"
   ]
  },
  {
   "cell_type": "markdown",
   "metadata": {},
   "source": [
    "All of the training data is stored in one json file called: train.json. Reading in the file we can see that each rental listing has the following rental information recorded: # of bathrooms, # of bedrooms, building_id, date listing was created, listing description, display_address, features, interest level, latitude, listing_id, longitude,  manager_id, photos, price, and street_address. The target of this project is the interest_level, while the rest of the recorded features with the exception of listing_id could be used in some form as a predicting feature. We will first begin the model by using only the numeric columns in our machine learning algorithms to get an initial baseline of the data. These features include: # of bedrooms, # of bathrooms, latitude, longitude, and price. These five initial features match with common knowledge about the attributes that affect rental properties: location, price, and size of living space. All other machine learning algorithms will be compared to this initial baseline model."
   ]
  },
  {
   "cell_type": "code",
   "execution_count": 2,
   "metadata": {
    "collapsed": false,
    "scrolled": true
   },
   "outputs": [
    {
     "data": {
      "text/html": [
       "<div>\n",
       "<style>\n",
       "    .dataframe thead tr:only-child th {\n",
       "        text-align: right;\n",
       "    }\n",
       "\n",
       "    .dataframe thead th {\n",
       "        text-align: left;\n",
       "    }\n",
       "\n",
       "    .dataframe tbody tr th {\n",
       "        vertical-align: top;\n",
       "    }\n",
       "</style>\n",
       "<table border=\"1\" class=\"dataframe\">\n",
       "  <thead>\n",
       "    <tr style=\"text-align: right;\">\n",
       "      <th></th>\n",
       "      <th>bathrooms</th>\n",
       "      <th>bedrooms</th>\n",
       "      <th>building_id</th>\n",
       "      <th>created</th>\n",
       "      <th>description</th>\n",
       "      <th>display_address</th>\n",
       "      <th>features</th>\n",
       "      <th>interest_level</th>\n",
       "      <th>latitude</th>\n",
       "      <th>listing_id</th>\n",
       "      <th>longitude</th>\n",
       "      <th>manager_id</th>\n",
       "      <th>photos</th>\n",
       "      <th>price</th>\n",
       "      <th>street_address</th>\n",
       "    </tr>\n",
       "  </thead>\n",
       "  <tbody>\n",
       "    <tr>\n",
       "      <th>10</th>\n",
       "      <td>1.5</td>\n",
       "      <td>3</td>\n",
       "      <td>53a5b119ba8f7b61d4e010512e0dfc85</td>\n",
       "      <td>2016-06-24 07:54:24</td>\n",
       "      <td>A Brand New 3 Bedroom 1.5 bath ApartmentEnjoy ...</td>\n",
       "      <td>Metropolitan Avenue</td>\n",
       "      <td>[]</td>\n",
       "      <td>medium</td>\n",
       "      <td>40.7145</td>\n",
       "      <td>7211212</td>\n",
       "      <td>-73.9425</td>\n",
       "      <td>5ba989232d0489da1b5f2c45f6688adc</td>\n",
       "      <td>[https://photos.renthop.com/2/7211212_1ed4542e...</td>\n",
       "      <td>3000</td>\n",
       "      <td>792 Metropolitan Avenue</td>\n",
       "    </tr>\n",
       "    <tr>\n",
       "      <th>10000</th>\n",
       "      <td>1.0</td>\n",
       "      <td>2</td>\n",
       "      <td>c5c8a357cba207596b04d1afd1e4f130</td>\n",
       "      <td>2016-06-12 12:19:27</td>\n",
       "      <td></td>\n",
       "      <td>Columbus Avenue</td>\n",
       "      <td>[Doorman, Elevator, Fitness Center, Cats Allow...</td>\n",
       "      <td>low</td>\n",
       "      <td>40.7947</td>\n",
       "      <td>7150865</td>\n",
       "      <td>-73.9667</td>\n",
       "      <td>7533621a882f71e25173b27e3139d83d</td>\n",
       "      <td>[https://photos.renthop.com/2/7150865_be3306c5...</td>\n",
       "      <td>5465</td>\n",
       "      <td>808 Columbus Avenue</td>\n",
       "    </tr>\n",
       "    <tr>\n",
       "      <th>100004</th>\n",
       "      <td>1.0</td>\n",
       "      <td>1</td>\n",
       "      <td>c3ba40552e2120b0acfc3cb5730bb2aa</td>\n",
       "      <td>2016-04-17 03:26:41</td>\n",
       "      <td>Top Top West Village location, beautiful Pre-w...</td>\n",
       "      <td>W 13 Street</td>\n",
       "      <td>[Laundry In Building, Dishwasher, Hardwood Flo...</td>\n",
       "      <td>high</td>\n",
       "      <td>40.7388</td>\n",
       "      <td>6887163</td>\n",
       "      <td>-74.0018</td>\n",
       "      <td>d9039c43983f6e564b1482b273bd7b01</td>\n",
       "      <td>[https://photos.renthop.com/2/6887163_de85c427...</td>\n",
       "      <td>2850</td>\n",
       "      <td>241 W 13 Street</td>\n",
       "    </tr>\n",
       "    <tr>\n",
       "      <th>100007</th>\n",
       "      <td>1.0</td>\n",
       "      <td>1</td>\n",
       "      <td>28d9ad350afeaab8027513a3e52ac8d5</td>\n",
       "      <td>2016-04-18 02:22:02</td>\n",
       "      <td>Building Amenities - Garage - Garden - fitness...</td>\n",
       "      <td>East 49th Street</td>\n",
       "      <td>[Hardwood Floors, No Fee]</td>\n",
       "      <td>low</td>\n",
       "      <td>40.7539</td>\n",
       "      <td>6888711</td>\n",
       "      <td>-73.9677</td>\n",
       "      <td>1067e078446a7897d2da493d2f741316</td>\n",
       "      <td>[https://photos.renthop.com/2/6888711_6e660cee...</td>\n",
       "      <td>3275</td>\n",
       "      <td>333 East 49th Street</td>\n",
       "    </tr>\n",
       "    <tr>\n",
       "      <th>100013</th>\n",
       "      <td>1.0</td>\n",
       "      <td>4</td>\n",
       "      <td>0</td>\n",
       "      <td>2016-04-28 01:32:41</td>\n",
       "      <td>Beautifully renovated 3 bedroom flex 4 bedroom...</td>\n",
       "      <td>West 143rd Street</td>\n",
       "      <td>[Pre-War]</td>\n",
       "      <td>low</td>\n",
       "      <td>40.8241</td>\n",
       "      <td>6934781</td>\n",
       "      <td>-73.9493</td>\n",
       "      <td>98e13ad4b495b9613cef886d79a6291f</td>\n",
       "      <td>[https://photos.renthop.com/2/6934781_1fa4b41a...</td>\n",
       "      <td>3350</td>\n",
       "      <td>500 West 143rd Street</td>\n",
       "    </tr>\n",
       "  </tbody>\n",
       "</table>\n",
       "</div>"
      ],
      "text/plain": [
       "        bathrooms  bedrooms                       building_id  \\\n",
       "10            1.5         3  53a5b119ba8f7b61d4e010512e0dfc85   \n",
       "10000         1.0         2  c5c8a357cba207596b04d1afd1e4f130   \n",
       "100004        1.0         1  c3ba40552e2120b0acfc3cb5730bb2aa   \n",
       "100007        1.0         1  28d9ad350afeaab8027513a3e52ac8d5   \n",
       "100013        1.0         4                                 0   \n",
       "\n",
       "                    created  \\\n",
       "10      2016-06-24 07:54:24   \n",
       "10000   2016-06-12 12:19:27   \n",
       "100004  2016-04-17 03:26:41   \n",
       "100007  2016-04-18 02:22:02   \n",
       "100013  2016-04-28 01:32:41   \n",
       "\n",
       "                                              description  \\\n",
       "10      A Brand New 3 Bedroom 1.5 bath ApartmentEnjoy ...   \n",
       "10000                                                       \n",
       "100004  Top Top West Village location, beautiful Pre-w...   \n",
       "100007  Building Amenities - Garage - Garden - fitness...   \n",
       "100013  Beautifully renovated 3 bedroom flex 4 bedroom...   \n",
       "\n",
       "            display_address  \\\n",
       "10      Metropolitan Avenue   \n",
       "10000       Columbus Avenue   \n",
       "100004          W 13 Street   \n",
       "100007     East 49th Street   \n",
       "100013    West 143rd Street   \n",
       "\n",
       "                                                 features interest_level  \\\n",
       "10                                                     []         medium   \n",
       "10000   [Doorman, Elevator, Fitness Center, Cats Allow...            low   \n",
       "100004  [Laundry In Building, Dishwasher, Hardwood Flo...           high   \n",
       "100007                          [Hardwood Floors, No Fee]            low   \n",
       "100013                                          [Pre-War]            low   \n",
       "\n",
       "        latitude  listing_id  longitude                        manager_id  \\\n",
       "10       40.7145     7211212   -73.9425  5ba989232d0489da1b5f2c45f6688adc   \n",
       "10000    40.7947     7150865   -73.9667  7533621a882f71e25173b27e3139d83d   \n",
       "100004   40.7388     6887163   -74.0018  d9039c43983f6e564b1482b273bd7b01   \n",
       "100007   40.7539     6888711   -73.9677  1067e078446a7897d2da493d2f741316   \n",
       "100013   40.8241     6934781   -73.9493  98e13ad4b495b9613cef886d79a6291f   \n",
       "\n",
       "                                                   photos  price  \\\n",
       "10      [https://photos.renthop.com/2/7211212_1ed4542e...   3000   \n",
       "10000   [https://photos.renthop.com/2/7150865_be3306c5...   5465   \n",
       "100004  [https://photos.renthop.com/2/6887163_de85c427...   2850   \n",
       "100007  [https://photos.renthop.com/2/6888711_6e660cee...   3275   \n",
       "100013  [https://photos.renthop.com/2/6934781_1fa4b41a...   3350   \n",
       "\n",
       "                 street_address  \n",
       "10      792 Metropolitan Avenue  \n",
       "10000       808 Columbus Avenue  \n",
       "100004          241 W 13 Street  \n",
       "100007     333 East 49th Street  \n",
       "100013    500 West 143rd Street  "
      ]
     },
     "execution_count": 2,
     "metadata": {},
     "output_type": "execute_result"
    }
   ],
   "source": [
    "trainData = pd.read_json('./train.json')\n",
    "trainData.head()"
   ]
  },
  {
   "cell_type": "markdown",
   "metadata": {},
   "source": [
    "We then need to see if this dataset is clean or dirty, fortunately there are no missing data sets."
   ]
  },
  {
   "cell_type": "code",
   "execution_count": 3,
   "metadata": {
    "collapsed": false
   },
   "outputs": [
    {
     "data": {
      "text/plain": [
       "bathrooms          0\n",
       "bedrooms           0\n",
       "building_id        0\n",
       "created            0\n",
       "description        0\n",
       "display_address    0\n",
       "features           0\n",
       "interest_level     0\n",
       "latitude           0\n",
       "listing_id         0\n",
       "longitude          0\n",
       "manager_id         0\n",
       "photos             0\n",
       "price              0\n",
       "street_address     0\n",
       "dtype: int64"
      ]
     },
     "execution_count": 3,
     "metadata": {},
     "output_type": "execute_result"
    }
   ],
   "source": [
    "trainData.isnull().sum()"
   ]
  },
  {
   "cell_type": "markdown",
   "metadata": {},
   "source": [
    "We next need to see how the data is distributed within the dataset. It is clear that the data is heavily biased towards the 'low' classification. To get better results, we want to train our learning models on approximately evenly distributed data so that it can see an equal amount of 'low', 'medium', and 'high' rental records. "
   ]
  },
  {
   "cell_type": "code",
   "execution_count": 4,
   "metadata": {
    "collapsed": false
   },
   "outputs": [
    {
     "data": {
      "text/plain": [
       "low       34284\n",
       "medium    11229\n",
       "high       3839\n",
       "Name: interest_level, dtype: int64"
      ]
     },
     "execution_count": 4,
     "metadata": {},
     "output_type": "execute_result"
    }
   ],
   "source": [
    "trainData['interest_level'].value_counts()"
   ]
  },
  {
   "cell_type": "markdown",
   "metadata": {},
   "source": [
    "We first need categorize our target values 'interest_level' to numerical values that can be represented in a matrix. We will classify 'low'=0, 'medium'=1, and 'high'=2. "
   ]
  },
  {
   "cell_type": "code",
   "execution_count": 5,
   "metadata": {
    "collapsed": false
   },
   "outputs": [
    {
     "data": {
      "text/plain": [
       "0    34284\n",
       "1    11229\n",
       "2     3839\n",
       "Name: interest, dtype: int64"
      ]
     },
     "execution_count": 5,
     "metadata": {},
     "output_type": "execute_result"
    }
   ],
   "source": [
    "trainData['interest'] = np.where(trainData.interest_level=='low', 0,\n",
    "                                  np.where(trainData.interest_level=='medium', 1, 2))\n",
    "trainData['interest'].value_counts()"
   ]
  },
  {
   "cell_type": "markdown",
   "metadata": {},
   "source": [
    "Time to create our data matrices. In the makeMatrixData will will create the appropriate X and T matrices that representing the feature and target matrices. Since there is such a high bias towards 'low' interest rental listings and very few 'high' interest listing, well over sample 'high' listings and add two additional set copies of the 'high' interest posting and remove two thirds of 'low' interest postings so there is an approximated even distribution of data that is centered around 11,000 data elements for each category. The method makeMatrixData takes as an input a pandas dataframe object and columns of both the feature and target values that we desired to be used in our model. "
   ]
  },
  {
   "cell_type": "code",
   "execution_count": 8,
   "metadata": {
    "collapsed": true
   },
   "outputs": [],
   "source": [
    "def makeMatrixData(df, featureColumns, targetColumn):\n",
    "    trainMatrix = df.as_matrix()\n",
    "    Names = list(trainData.columns.values)\n",
    "    X = trainMatrix[:, featureColumns]\n",
    "    T = trainMatrix[:, targetColumn:targetColumn+1]\n",
    "    Xnames = [Names[index] for index in featureColumns]\n",
    "    Tnames = Names[targetColumn]\n",
    "    lowI, _ = np.where(T == 0)\n",
    "    medI, _ = np.where(T == 1)\n",
    "    highI, _ = np.where(T == 2)\n",
    "    lowI = np.random.permutation(lowI)\n",
    "    nLow = round(len(lowI) / 3)\n",
    "    rows = np.hstack((lowI[:nLow],medI[:]))\n",
    "    newX = X[rows, :]\n",
    "    high = X[highI, :]\n",
    "    X = np.concatenate((newX, high,high,high), axis=0)\n",
    "    newT = T[rows, 0:1]\n",
    "    highT = T[highI, 0:1]\n",
    "    T = np.concatenate((newT, highT, highT, highT))\n",
    "    X=X.astype(float)\n",
    "    T = T.astype(int)\n",
    "    return X,T,Xnames,Tnames"
   ]
  },
  {
   "cell_type": "code",
   "execution_count": 9,
   "metadata": {
    "collapsed": false
   },
   "outputs": [],
   "source": [
    "X,T,Xnames,Tnames = makeMatrixData(trainData,[0,1,8,10,13], 15)"
   ]
  },
  {
   "cell_type": "markdown",
   "metadata": {},
   "source": [
    "We will use the following functions in in conjunction with qdalda.py, mlutils.py, scaledconjugatecradient.py, and neuralnetworks.py to evalute our LDA and Nonlinear/Linear Logistic classification models."
   ]
  },
  {
   "cell_type": "code",
   "execution_count": 17,
   "metadata": {
    "collapsed": true
   },
   "outputs": [],
   "source": [
    "def trainLDA(X,T,parameters = None):\n",
    "    lda = ql.LDA()\n",
    "    lda.train(X,T)\n",
    "    return lda\n",
    "\n",
    "def evaluateLDA(model,X,T):\n",
    "    c, prob, d = model.use(X)\n",
    "    return np.sum(c == T) / X.shape[0] * 100\n",
    "\n",
    "def trainNN(X,T,parameters):\n",
    "    layers = parameters[0]\n",
    "    iterations = parameters[1]\n",
    "    nInputs = X.shape[1]\n",
    "    nOutputs = len(np.unique(T))\n",
    "    nclass = nn.NeuralNetworkClassifier(nInputs, layers, nOutputs)\n",
    "    nclass.train(X, T, iterations, False)\n",
    "    return nclass\n",
    "\n",
    "def evaluateNN(model,X,T):\n",
    "    Y = model.use(X)\n",
    "    return 100*np.sum(Y==T)/len(T)\n",
    "\n",
    "def printResults(label,results):\n",
    "    print('{:4s} {:>20s}{:>8s}{:>8s}{:>8s}'.format('Algo','Parameters','TrnAcc','ValAcc','TesAcc'))\n",
    "    print('-------------------------------------------------')\n",
    "    for row in results:\n",
    "        # 20 is expected maximum number of characters in printed parameter value list\n",
    "        print('{:>4s} {:>20s} {:7.2f} {:7.2f} {:7.2f}'.format(label,str(row[0]),*row[1:]))\n",
    "        \n",
    "def printAvg (lable, results):\n",
    "    avgResults = np.array(results)\n",
    "    avgResults = avgResults[:, 1:]\n",
    "    avgResults = np.mean(avgResults, axis=0)\n",
    "    print('-------------------------------------------------')\n",
    "    print('{:>4s} {:>20s} {:7.2f} {:7.2f} {:7.2f}'.format(\"Average:\",\"  \",*avgResults[:]))"
   ]
  },
  {
   "cell_type": "markdown",
   "metadata": {},
   "source": [
    "#### Baseline Model Testing"
   ]
  },
  {
   "cell_type": "markdown",
   "metadata": {},
   "source": [
    "With our initial features and targets defined and all of our functions declared, we can now begin our baseline tests using # of bathrooms, # of bedrooms, latitude, longitude, and price. We first look at our LDA model:"
   ]
  },
  {
   "cell_type": "code",
   "execution_count": 47,
   "metadata": {
    "collapsed": true
   },
   "outputs": [],
   "source": [
    "XTrain,TTrain,XTest,TTest = ml.partition(X,T,(.8,.2),classification=True)\n",
    "classes = ['Low', 'Medium', 'High']"
   ]
  },
  {
   "cell_type": "code",
   "execution_count": 42,
   "metadata": {
    "collapsed": false
   },
   "outputs": [
    {
     "name": "stdout",
     "output_type": "stream",
     "text": [
      "\n",
      "Algo           Parameters  TrnAcc  ValAcc  TesAcc\n",
      "-------------------------------------------------\n",
      "LDA:                 None   51.49   49.24   56.45\n",
      "LDA:                 None   53.89   51.11   58.65\n",
      "LDA:                 None   54.12   51.36   57.61\n",
      "LDA:                 None   54.33   51.29   56.46\n",
      "LDA:                 None   54.46   51.51   55.69\n",
      "LDA:                 None   54.71   51.58   53.44\n",
      "LDA:                 None   54.87   51.92   51.33\n",
      "LDA:                 None   55.03   51.98   48.36\n",
      "LDA:                 None   55.20   52.99   43.71\n",
      "LDA:                 None   55.11   53.29   37.00\n"
     ]
    }
   ],
   "source": [
    "resultsLDA = ml.trainValidateTestKFoldsClassification( trainLDA,evaluateLDA, X,T, [None],\n",
    "                                                       nFolds=10, shuffle=True,verbose=False)\n",
    "printResults('LDA:',resultsLDA)"
   ]
  },
  {
   "cell_type": "code",
   "execution_count": 43,
   "metadata": {
    "collapsed": false,
    "scrolled": true
   },
   "outputs": [
    {
     "name": "stdout",
     "output_type": "stream",
     "text": [
      "-------------------------------------------------\n",
      "Average:                        54.32   51.63   51.87\n"
     ]
    }
   ],
   "source": [
    "printAvg(\"LDA\", resultsLDA)"
   ]
  },
  {
   "cell_type": "markdown",
   "metadata": {},
   "source": [
    "With an LDA model we are achieving a baseline accuracy of 51.87%. Not the best, but slightly better than average. Let's see what $\\mu$ values the LDA model assigned for each input feature."
   ]
  },
  {
   "cell_type": "code",
   "execution_count": 48,
   "metadata": {
    "collapsed": false
   },
   "outputs": [
    {
     "name": "stdout",
     "output_type": "stream",
     "text": [
      "                       Low      Medium     High   \n",
      "           bathrooms   0.15     -0.02     -0.13   \n",
      "            bedrooms  -0.04      0.05     -0.01   \n",
      "            latitude  -0.02      0.01      0.01   \n",
      "           longitude   0.02     -0.01     -0.01   \n",
      "               price   0.04     -0.01     -0.03   \n"
     ]
    }
   ],
   "source": [
    "LDAModel = trainLDA(XTrain, TTrain)\n",
    "mu = LDAModel.mu\n",
    "print(' '*20, end='')\n",
    "for cl in classes:\n",
    "    print(\"{:^10}\".format(cl), end='')\n",
    "print()\n",
    "for i,name in enumerate(Xnames):\n",
    "    print(\"{:>20}\".format(name[:18]), end='')\n",
    "    for j,clas in enumerate(classes):\n",
    "        print(\"{:^10.2f}\".format(mu[j][i][0]), end='')\n",
    "    print()"
   ]
  },
  {
   "cell_type": "code",
   "execution_count": 74,
   "metadata": {
    "collapsed": false
   },
   "outputs": [
    {
     "name": "stdout",
     "output_type": "stream",
     "text": [
      "ConfusionMatrix\n",
      "\n",
      "       0    1    2\n",
      "    ------------------\n",
      " 0 | 38.7  1.4 59.8   (2286 / 2286)\n",
      " 1 | 34.3  0.4 65.3   (2246 / 2246)\n",
      " 2 | 33.7  0.0 66.2   (2303 / 2303)\n"
     ]
    }
   ],
   "source": [
    "Ptrain,Prtrain,_ = LDAModel.use(XTrain)\n",
    "Ptest,Prtest,_ = LDAModel.use(XTest)\n",
    "print('ConfusionMatrix')\n",
    "print()\n",
    "ml.confusionMatrix(TTest,Ptest,np.unique(TTest));"
   ]
  },
  {
   "cell_type": "markdown",
   "metadata": {},
   "source": [
    "As we can see the LDA model is weighting the number of bathrooms to predict the 'low' and 'high' categories, but nothing else. This is further demonstrated in the confusion matrix where the majority of rental postings are either getting categorized as 'low' or 'high'. Now to see how the linear and non-linear logistic classification models will test."
   ]
  },
  {
   "cell_type": "markdown",
   "metadata": {},
   "source": [
    "In a paper published by Huang, a standard neural network contains two hidden layers were the number of hidden units are defined as:"
   ]
  },
  {
   "cell_type": "code",
   "execution_count": 55,
   "metadata": {
    "collapsed": true
   },
   "outputs": [],
   "source": [
    "def hiddenLayers(ni,no):\n",
    "    n1 = int (math.ceil(math.sqrt((no+2)*ni)+ (2*math.sqrt((ni)/(no+2)))))\n",
    "    n2 = int (math.ceil(no*math.sqrt((ni)/(no+2))))\n",
    "    return [n1,n2]"
   ]
  },
  {
   "cell_type": "markdown",
   "metadata": {},
   "source": [
    "First we start out with our linear model and we can see that we are already getting a better boost in with an average test accuracy of around 68.39% "
   ]
  },
  {
   "cell_type": "code",
   "execution_count": 50,
   "metadata": {
    "collapsed": false,
    "scrolled": true
   },
   "outputs": [
    {
     "name": "stdout",
     "output_type": "stream",
     "text": [
      "\n",
      "Algo           Parameters  TrnAcc  ValAcc  TesAcc\n",
      "-------------------------------------------------\n",
      " NN:            [[0], 10]   71.94   66.78   83.53\n",
      " NN:            [[0], 10]   72.36   66.93   82.11\n",
      " NN:            [[0], 10]   72.78   67.13   80.33\n",
      " NN:            [[0], 10]   73.20   67.34   78.11\n",
      " NN:            [[0], 10]   73.57   67.67   75.38\n",
      " NN:            [[0], 10]   73.97   68.04   71.88\n",
      " NN:            [[0], 10]   74.27   68.56   67.08\n",
      " NN:            [[0], 10]   74.67   69.24   60.59\n",
      " NN:            [[0], 50]   75.00   70.35   50.71\n",
      " NN:            [[0], 50]   75.34   72.19   34.16\n"
     ]
    }
   ],
   "source": [
    "resultsNN = ml.trainValidateTestKFoldsClassification( trainNN,evaluateNN, X,T, \n",
    "                                                     [ [ [0], 10], [[0], 50], [[0], 100] ],\n",
    "                                                     nFolds=10, shuffle=False,verbose=False)\n",
    "printResults('NN:',resultsNN)"
   ]
  },
  {
   "cell_type": "code",
   "execution_count": 64,
   "metadata": {
    "collapsed": false,
    "scrolled": true
   },
   "outputs": [
    {
     "name": "stdout",
     "output_type": "stream",
     "text": [
      "-------------------------------------------------\n",
      "Average:                        73.71   68.42   68.39\n"
     ]
    }
   ],
   "source": [
    "printAvg(\"NN\", resultsNN)"
   ]
  },
  {
   "cell_type": "code",
   "execution_count": 77,
   "metadata": {
    "collapsed": false
   },
   "outputs": [
    {
     "name": "stdout",
     "output_type": "stream",
     "text": [
      "Confusion Matrix\n",
      "\n",
      "       0    1    2\n",
      "    ------------------\n",
      " 0 | 55.2  3.2 41.6   (2286 / 2286)\n",
      " 1 | 38.9  3.6 57.6   (2246 / 2246)\n",
      " 2 | 34.7  3.2 62.1   (2303 / 2303)\n"
     ]
    },
    {
     "data": {
      "image/png": "[encoded data removed]",
      "text/plain": [
       "<matplotlib.figure.Figure at 0x12cfea048>"
      ]
     },
     "metadata": {},
     "output_type": "display_data"
    }
   ],
   "source": [
    "XTrain,TTrain,XTest,TTest = ml.partition(X,T,(.8,.2),classification=True)\n",
    "nnet = nn.NeuralNetworkClassifier(X.shape[1],[0],3) \n",
    "nnet.train(XTrain,TTrain,nIterations = 10,errorPrecision=1.e-8, verbose=False)\n",
    "PTrain,Prtrain,_ = nnet.use(XTrain,allOutputs=True)\n",
    "PTest,Prtest,_ = nnet.use(XTest,allOutputs=True)\n",
    "print('Confusion Matrix')\n",
    "print()\n",
    "ml.confusionMatrix(TTest,PTest,classes)\n",
    "plt.plot(np.exp(-nnet.getErrorTrace()));"
   ]
  },
  {
   "cell_type": "markdown",
   "metadata": {},
   "source": [
    "We are seeing very similar results with the linear logistic model compared to the LDA model: 'low' and 'high' classes are heavily getting biased. Now let's see how a non-linear model will work."
   ]
  },
  {
   "cell_type": "code",
   "execution_count": 82,
   "metadata": {
    "collapsed": false,
    "scrolled": true
   },
   "outputs": [
    {
     "name": "stdout",
     "output_type": "stream",
     "text": [
      "\n",
      "Algo           Parameters  TrnAcc  ValAcc  TesAcc\n",
      "-------------------------------------------------\n",
      " NN:        [[7, 3], 300]   63.38   60.64   74.59\n",
      " NN:        [[7, 3], 300]   64.70   61.44   71.11\n",
      " NN:        [[7, 3], 300]   66.28   62.65   66.19\n",
      " NN:        [[7, 3], 300]   68.31   64.67   59.31\n",
      " NN:        [[7, 3], 200]   68.94   67.67   46.03\n"
     ]
    }
   ],
   "source": [
    "numNodes = hiddenLayers(5, 3)\n",
    "resultsNN = ml.trainValidateTestKFoldsClassification( trainNN,evaluateNN, X,T, \n",
    "                                                     [ [ numNodes, 100], [numNodes, 200], [numNodes, 300] ],\n",
    "                                                     nFolds=5, shuffle=False,verbose=False)\n",
    "printResults('NN:',resultsNN)"
   ]
  },
  {
   "cell_type": "code",
   "execution_count": 83,
   "metadata": {
    "collapsed": false
   },
   "outputs": [
    {
     "name": "stdout",
     "output_type": "stream",
     "text": [
      "-------------------------------------------------\n",
      "Average:                        66.32   63.41   63.45\n"
     ]
    }
   ],
   "source": [
    "printAvg(\"NN\", resultsNN)"
   ]
  },
  {
   "cell_type": "code",
   "execution_count": 84,
   "metadata": {
    "collapsed": true
   },
   "outputs": [],
   "source": [
    "Xtrain,Ttrain,Xtest,Ttest = ml.partition(X,T,(0.8,0.2),classification=True)"
   ]
  },
  {
   "cell_type": "code",
   "execution_count": 85,
   "metadata": {
    "collapsed": false
   },
   "outputs": [
    {
     "name": "stdout",
     "output_type": "stream",
     "text": [
      "SCG: Iteration 20 ObjectiveF=0.35548 Scale=1.395e-03 Time=0.00136 s/iter\n",
      "SCG: Iteration 40 ObjectiveF=0.33896 Scale=6.976e-04 Time=0.00135 s/iter\n",
      "SCG: Iteration 60 ObjectiveF=0.32973 Scale=6.653e-10 Time=0.00144 s/iter\n",
      "SCG: Iteration 80 ObjectiveF=0.32658 Scale=1.000e-15 Time=0.00155 s/iter\n",
      "SCG: Iteration 100 ObjectiveF=0.32555 Scale=1.000e-15 Time=0.00138 s/iter\n",
      "SCG: Iteration 120 ObjectiveF=0.32512 Scale=6.554e-11 Time=0.00062 s/iter\n",
      "SCG: Iteration 140 ObjectiveF=0.32335 Scale=1.074e-06 Time=0.00143 s/iter\n",
      "SCG: Iteration 160 ObjectiveF=0.32257 Scale=1.024e-12 Time=0.00138 s/iter\n",
      "SCG: Iteration 180 ObjectiveF=0.32193 Scale=1.000e-15 Time=0.00138 s/iter\n",
      "SCG: Iteration 200 ObjectiveF=0.32107 Scale=1.000e-15 Time=0.00136 s/iter\n"
     ]
    },
    {
     "data": {
      "text/plain": [
       "NeuralNetwork(5, [7, 3], 3)\n",
       "   Network was trained for 200 iterations. Final error is 0.3210711659426263."
      ]
     },
     "execution_count": 85,
     "metadata": {},
     "output_type": "execute_result"
    }
   ],
   "source": [
    "nnet = nn.NeuralNetworkClassifier(X.shape[1],numNodes,3) \n",
    "nnet.train(Xtrain,Ttrain,nIterations = 200,errorPrecision=1.e-8, verbose=True)"
   ]
  },
  {
   "cell_type": "code",
   "execution_count": 88,
   "metadata": {
    "collapsed": false
   },
   "outputs": [
    {
     "name": "stdout",
     "output_type": "stream",
     "text": [
      "\n",
      "       0    1    2\n",
      "    ------------------\n",
      " 0 | 55.9 23.3 20.9   (2286 / 2286)\n",
      " 1 | 25.6 31.8 42.6   (2246 / 2246)\n",
      " 2 | 11.6 21.5 66.8   (2303 / 2303)\n"
     ]
    },
    {
     "data": {
      "image/png": "[encoded data removed]",
      "text/plain": [
       "<matplotlib.figure.Figure at 0x12cfbad30>"
      ]
     },
     "metadata": {},
     "output_type": "display_data"
    }
   ],
   "source": [
    "classes = np.unique(Ttest)\n",
    "Ptrain,Prtrain,_ = nnet.use(Xtrain,allOutputs=True)\n",
    "Ptest,Prtest,_ = nnet.use(Xtest,allOutputs=True)\n",
    "print()\n",
    "ml.confusionMatrix(Ttest,Ptest,classes)\n",
    "plt.plot(np.exp(-nnet.getErrorTrace()));"
   ]
  },
  {
   "cell_type": "code",
   "execution_count": 89,
   "metadata": {
    "collapsed": false,
    "scrolled": false
   },
   "outputs": [
    {
     "name": "stdout",
     "output_type": "stream",
     "text": [
      "9.46079908388 0.0159748113858 771.604938272\n",
      "10.5416946953 0.519394939506 771.604938272\n"
     ]
    },
    {
     "data": {
      "image/png": "[encoded data removed]",
      "text/plain": [
       "<matplotlib.figure.Figure at 0x12cfae1d0>"
      ]
     },
     "metadata": {},
     "output_type": "display_data"
    }
   ],
   "source": [
    "nnet.draw(inputNames=Xnames)"
   ]
  },
  {
   "cell_type": "markdown",
   "metadata": {},
   "source": [
    "We can start to see that with a non-linear graph we are starting to get a better model. However, contrary to the LDA model we are starting to see a heavy bias as price being one of the greatest predicting factors. Bathroom and bedroom have slight influences on the model, they are not as significant as price. Latitude and longitude have little influence on the model. "
   ]
  },
  {
   "cell_type": "markdown",
   "metadata": {},
   "source": [
    "Let see how price, bedrooms, bathrooms, and location(longitude/latitude) are distributed within the data in relation to the renter's interest in the property. We will begin with number of bathrooms."
   ]
  },
  {
   "cell_type": "code",
   "execution_count": 92,
   "metadata": {
    "collapsed": false
   },
   "outputs": [],
   "source": [
    "featureColumns =[0,1,8,10,13]\n",
    "targetColumn = 15\n",
    "trainMatrix = trainData.as_matrix()\n",
    "Xdist = trainMatrix[:, featureColumns]\n",
    "Tdist = trainMatrix[:, targetColumn:targetColumn+1]\n",
    "lowI, _ = np.where(Tdist == 0)\n",
    "medI, _ = np.where(Tdist == 1)\n",
    "highI, _ = np.where(Tdist == 2)\n",
    "lowX = Xdist[lowI, :]\n",
    "medX = Xdist[medI, :]\n",
    "highX = Xdist[highI, :]\n",
    "lowX = lowX.astype(float)\n",
    "medX = medX.astype(float)\n",
    "highX = highX.astype(float)\n",
    "avgLow = np.mean(lowX, axis=0)\n",
    "avgMed = np.mean(medX, axis=0)\n",
    "avgHigh = np.mean(highX, axis=0)"
   ]
  },
  {
   "cell_type": "code",
   "execution_count": 93,
   "metadata": {
    "collapsed": true
   },
   "outputs": [],
   "source": [
    "avgBath = [avgLow[0], avgMed[0], avgHigh[0]]\n",
    "avgBed = [avgLow[1], avgMed[1], avgHigh[1]]"
   ]
  },
  {
   "cell_type": "code",
   "execution_count": 94,
   "metadata": {
    "collapsed": false
   },
   "outputs": [
    {
     "data": {
      "text/plain": [
       "[1.2387411037218528, 1.1639059577878708, 1.1161760875227924]"
      ]
     },
     "execution_count": 94,
     "metadata": {},
     "output_type": "execute_result"
    }
   ],
   "source": [
    "avgBath"
   ]
  },
  {
   "cell_type": "code",
   "execution_count": 95,
   "metadata": {
    "collapsed": false
   },
   "outputs": [
    {
     "data": {
      "text/plain": [
       "[1.5147590712868977, 1.6220500489803189, 1.5464964834592341]"
      ]
     },
     "execution_count": 95,
     "metadata": {},
     "output_type": "execute_result"
    }
   ],
   "source": [
    "avgBed"
   ]
  },
  {
   "cell_type": "code",
   "execution_count": 99,
   "metadata": {
    "collapsed": false
   },
   "outputs": [
    {
     "data": {
      "image/png": "[encoded data removed]",
      "text/plain": [
       "<matplotlib.figure.Figure at 0x12d0246a0>"
      ]
     },
     "metadata": {},
     "output_type": "display_data"
    }
   ],
   "source": [
    "n_groups = 3\n",
    "\n",
    "fig, ax = plt.subplots()\n",
    "\n",
    "index = np.arange(n_groups)\n",
    "bar_width = 0.35\n",
    "\n",
    "index = np.arange(n_groups)\n",
    "bar_width = 0.35\n",
    "\n",
    "opacity = 0.4\n",
    "error_config = {'ecolor': '0.3'}\n",
    "\n",
    "rects1 = plt.bar(index, avgBath, bar_width,\n",
    "                 alpha=opacity,\n",
    "                 color='b',\n",
    "                 label='Avg Bath')\n",
    "\n",
    "rects1 = plt.bar(index+bar_width, avgBed, bar_width,\n",
    "                 alpha=opacity,\n",
    "                 color='r',\n",
    "                 label='Avg Bed')\n",
    "\n",
    "plt.xlabel('Interest Level')\n",
    "plt.ylabel('Average Number')\n",
    "plt.title('Interest Levels According to Average Number of Bedrooms and Bathrooms')\n",
    "plt.xticks(index + bar_width / 2, ('Low', 'Medium', 'High'))\n",
    "plt.legend()\n",
    "\n",
    "plt.tight_layout()\n",
    "plt.show()"
   ]
  },
  {
   "cell_type": "markdown",
   "metadata": {},
   "source": [
    "From the above graph we can see in terms of number of bedrooms and bathrooms, there is little difference between 'low', 'med', and 'high' interest levels. The average number of bathrooms for the three interest levels are: 1.24, 1.16, 1.12 respectively and the respective average number of bedrooms for the three interest levels are: 1.51, 1.62, 1.55. The greatest difference between the average bathrooms is 0.12 and the greatest difference between the average bedrooms is 0.11. This could be an indicator that number of bedrooms and number of bathrooms is a bad indicator of interest level. "
   ]
  },
  {
   "cell_type": "code",
   "execution_count": 100,
   "metadata": {
    "collapsed": false
   },
   "outputs": [
    {
     "data": {
      "text/plain": [
       "[4176.599142457123, 3158.7673880131802, 2700.2930450638187]"
      ]
     },
     "execution_count": 100,
     "metadata": {},
     "output_type": "execute_result"
    }
   ],
   "source": [
    "avgPrice = [avgLow[4], avgMed[4], avgHigh[4]]\n",
    "avgPrice"
   ]
  },
  {
   "cell_type": "code",
   "execution_count": 107,
   "metadata": {
    "collapsed": false
   },
   "outputs": [
    {
     "data": {
      "image/png": "[encoded data removed]",
      "text/plain": [
       "<matplotlib.figure.Figure at 0x12d02bfd0>"
      ]
     },
     "metadata": {},
     "output_type": "display_data"
    }
   ],
   "source": [
    "n_groups = 3\n",
    "\n",
    "fig, ax = plt.subplots()\n",
    "\n",
    "index = np.arange(n_groups)\n",
    "bar_width = 0.35\n",
    "\n",
    "opacity = 0.4\n",
    "error_config = {'ecolor': '0.3'}\n",
    "\n",
    "rects1 = plt.bar(index, avgPrice, bar_width,\n",
    "                 alpha=opacity,\n",
    "                 color='g',\n",
    "                 label='Avg Price')\n",
    "\n",
    "plt.xlabel('Interest Level')\n",
    "plt.ylabel('Average Number')\n",
    "plt.title('Interest Levels According to Average Number of Bedrooms and Bathrooms')\n",
    "plt.xticks(index , ('Low', 'Medium', 'High'))\n",
    "plt.legend()\n",
    "\n",
    "plt.tight_layout()\n",
    "plt.show()"
   ]
  },
  {
   "cell_type": "markdown",
   "metadata": {},
   "source": [
    "Price is a much different story. From the graph above we can see a clear discrepancy between the average price for 'high' interest level and 'low' interest level. The average prices for the three interest levels are: 'low': \\$4176.60, 'med': \\$3158.77, 'high': \\$2700.29, with the largest difference being: \\$1476.31."
   ]
  },
  {
   "cell_type": "markdown",
   "metadata": {},
   "source": [
    "Let's see how location is related to the interest level"
   ]
  },
  {
   "cell_type": "code",
   "execution_count": 111,
   "metadata": {
    "collapsed": false,
    "scrolled": true
   },
   "outputs": [
    {
     "data": {
      "image/png": "[encoded data removed]",
      "text/plain": [
       "<matplotlib.figure.Figure at 0x12ce69518>"
      ]
     },
     "metadata": {},
     "output_type": "display_data"
    }
   ],
   "source": [
    "plt.scatter(lowX[:,2], lowX[:,3], c='r', alpha=0.5)\n",
    "plt.scatter(medX[:,2], medX[:,3], c='b', alpha=0.5)\n",
    "plt.scatter(highX[:,2], highX[:,3], c='g', alpha=0.5)\n",
    "plt.show()"
   ]
  },
  {
   "cell_type": "markdown",
   "metadata": {},
   "source": [
    "Now let us try to the outliers"
   ]
  },
  {
   "cell_type": "code",
   "execution_count": 155,
   "metadata": {
    "collapsed": true
   },
   "outputs": [],
   "source": [
    "def removeOutliers(data, m):\n",
    "    m = 2\n",
    "    uLat = np.mean(data[:, 2])\n",
    "    sLat = np.std(data[:, 2])\n",
    "    a = np.array([[0, 0, 0, 0, 0]])\n",
    "    for e in data:\n",
    "        if (uLat - m*sLat < e[2] < uLat + m *sLat):\n",
    "            c = np.array([e])\n",
    "            a = np.concatenate((a, c), axis=0)\n",
    "    reOut = a[1:,:]\n",
    "    b = np.array([[0, 0, 0, 0, 0]])\n",
    "    uLong = np.mean(data[:, 3])\n",
    "    sLong = np.std(data[:, 3])\n",
    "    for e in reOut:\n",
    "        if (uLat - m*sLong < e[3] < uLat + m *sLong):\n",
    "            d = np.array([e])\n",
    "            b = np.concatenate((b, d), axis=0)\n",
    "    reOut2 = b[1:,:]\n",
    "    return reOut"
   ]
  },
  {
   "cell_type": "code",
   "execution_count": 151,
   "metadata": {
    "collapsed": false
   },
   "outputs": [
    {
     "data": {
      "text/plain": [
       "array([[  1.00000000e+00,   2.00000000e+00,   4.07947000e+01,\n",
       "         -7.39667000e+01,   5.46500000e+03],\n",
       "       [  1.00000000e+00,   1.00000000e+00,   4.07539000e+01,\n",
       "         -7.39677000e+01,   3.27500000e+03],\n",
       "       [  1.00000000e+00,   4.00000000e+00,   4.08241000e+01,\n",
       "         -7.39493000e+01,   3.35000000e+03],\n",
       "       ..., \n",
       "       [  1.00000000e+00,   1.00000000e+00,   4.07601000e+01,\n",
       "         -7.39900000e+01,   2.59500000e+03],\n",
       "       [  1.00000000e+00,   0.00000000e+00,   4.07066000e+01,\n",
       "         -7.40101000e+01,   3.35000000e+03],\n",
       "       [  1.00000000e+00,   2.00000000e+00,   4.08699000e+01,\n",
       "         -7.39172000e+01,   2.20000000e+03]])"
      ]
     },
     "execution_count": 151,
     "metadata": {},
     "output_type": "execute_result"
    }
   ],
   "source": [
    "data = lowX\n",
    "m = 2\n",
    "uLat = np.mean(data[:, 2])\n",
    "sLat = np.std(data[:, 2])\n",
    "#filteredLat = [e for e in data if (uLat - m*sLat < e[2] < uLat + m *sLat)]\n",
    "a = np.array([[0, 0, 0, 0, 0]])\n",
    "for e in data:\n",
    "    if (uLat - m*sLat < e[2] < uLat + m *sLat):\n",
    "        c = np.array([e])\n",
    "        a = np.concatenate((a, c), axis=0)\n",
    "        \n",
    "a[1:,:]"
   ]
  },
  {
   "cell_type": "code",
   "execution_count": 176,
   "metadata": {
    "collapsed": true
   },
   "outputs": [],
   "source": [
    "lowXUp = removeOutliers(lowX, .25)\n",
    "medXUp = removeOutliers(medX, 2)\n",
    "highXUp = removeOutliers(highX, 2)"
   ]
  },
  {
   "cell_type": "code",
   "execution_count": 177,
   "metadata": {
    "collapsed": false,
    "scrolled": true
   },
   "outputs": [
    {
     "data": {
      "image/png": "[encoded data removed]",
      "text/plain": [
       "<matplotlib.figure.Figure at 0x12ce86b38>"
      ]
     },
     "metadata": {},
     "output_type": "display_data"
    }
   ],
   "source": [
    "plt.scatter(lowXUp[:,2], lowXUp[:,3], c='r', alpha=0.5)\n",
    "plt.scatter(medXUp[:,2], medXUp[:,3], c='b', alpha=0.5)\n",
    "plt.scatter(highXUp[:,2], highXUp[:,3], c='g', alpha=0.5)\n",
    "plt.show()"
   ]
  },
  {
   "cell_type": "code",
   "execution_count": 181,
   "metadata": {
    "collapsed": false
   },
   "outputs": [],
   "source": [
    "lowXUp2 = removeOutliers(lowXUp, 2)\n",
    "medXUp2 = removeOutliers(medXUp, 2)\n",
    "highXUp2 = removeOutliers(highXUp, 2)"
   ]
  },
  {
   "cell_type": "code",
   "execution_count": 186,
   "metadata": {
    "collapsed": false
   },
   "outputs": [
    {
     "data": {
      "image/png": "[encoded data removed]",
      "text/plain": [
       "<matplotlib.figure.Figure at 0x12cd10160>"
      ]
     },
     "metadata": {},
     "output_type": "display_data"
    }
   ],
   "source": [
    "plt.scatter(lowXUp2[:,2], lowXUp2[:,3], c='r', alpha=0.1)\n",
    "plt.scatter(medXUp2[:,2], medXUp2[:,3], c='b', alpha=0.1)\n",
    "plt.scatter(highXUp2[:,2], highXUp2[:,3], c='g', alpha=0.1)\n",
    "plt.show()"
   ]
  },
  {
   "cell_type": "markdown",
   "metadata": {},
   "source": [
    "## Results"
   ]
  },
  {
   "cell_type": "markdown",
   "metadata": {},
   "source": [
    "Our final results is the neural network the standard numerical features. It uses two hidden layers of 7 and 2 units respectively. Our model was able to most accurately predict the low and high interest levels, however, had a difficult time predicting medium interest levels. To improve this we would need to spend more time engineering better features for our model to learn on."
   ]
  },
  {
   "cell_type": "code",
   "execution_count": 178,
   "metadata": {
    "collapsed": false
   },
   "outputs": [
    {
     "name": "stdout",
     "output_type": "stream",
     "text": [
      "\n",
      "       0    1    2\n",
      "    ------------------\n",
      " 0 | 55.9 23.3 20.9   (2286 / 2286)\n",
      " 1 | 25.6 31.8 42.6   (2246 / 2246)\n",
      " 2 | 11.6 21.5 66.8   (2303 / 2303)\n"
     ]
    },
    {
     "data": {
      "image/png": "[encoded data removed]",
      "text/plain": [
       "<matplotlib.figure.Figure at 0x12cdb6048>"
      ]
     },
     "metadata": {},
     "output_type": "display_data"
    }
   ],
   "source": [
    "classes = np.unique(Ttest)\n",
    "Ptrain,Prtrain,_ = nnet.use(Xtrain,allOutputs=True)\n",
    "Ptest,Prtest,_ = nnet.use(Xtest,allOutputs=True)\n",
    "print()\n",
    "ml.confusionMatrix(Ttest,Ptest,classes)\n",
    "plt.plot(np.exp(-nnet.getErrorTrace()));"
   ]
  },
  {
   "cell_type": "markdown",
   "metadata": {},
   "source": [
    "## Conclusion"
   ]
  },
  {
   "cell_type": "markdown",
   "metadata": {},
   "source": [
    "From out exploration of the data set we were able to achieve an average test accuracy of 63.45% using a neural network with two hidden layers with 7 and 3 units respectively and 300 iterations. We then began to look at the data and see how the data was distributed between low, medium, and high interest levels. We found out that the number of bedrooms and bathrooms in a rent had little correlation with the interest level. This could be due to the fact that there are the majority of people living in New York are looking for 1-2 bedrooms and bathrooms in their next rental. This could also be due to fact that the average number of bedrooms and bathrooms in a rental is 1-2. We then looked at the price distribution between low, medium and high and found a great correlation between price and interest level. The average price for high interest level listings was close to \\$1500 less than the average price for a low interest level posting. This is coincides with the common knowledge that cheaper rental listings are more attractive to renters. Finally we looked at how the location was related to interest, we saw high outliers that had to removed, but after examining the data we were not able to find conclusive evidence that location sparked different levels of interest. This does not match with common knowledge, and if given more time, we would have liked to improve the location feature. In the future we would like to spend more time exploring and engineering different features for our machine learning model. "
   ]
  },
  {
   "cell_type": "markdown",
   "metadata": {
    "collapsed": true
   },
   "source": [
    "## References"
   ]
  },
  {
   "cell_type": "markdown",
   "metadata": {},
   "source": [
    "G. B. Huang, “Learning capability and storage capacity of two-hidden-layer feedforward networks,” IEEE Transactions on Neural Networks, vol. 14, no. 2, pp. 274–281, 2003."
   ]
  }
 ],
 "metadata": {
  "anaconda-cloud": {},
  "kernelspec": {
   "display_name": "Python [conda env:python3]",
   "language": "python",
   "name": "conda-env-python3-py"
  },
  "language_info": {
   "codemirror_mode": {
    "name": "ipython",
    "version": 3
   },
   "file_extension": ".py",
   "mimetype": "text/x-python",
   "name": "python",
   "nbconvert_exporter": "python",
   "pygments_lexer": "ipython3",
   "version": "3.5.2"
  }
 },
 "nbformat": 4,
 "nbformat_minor": 1
}
